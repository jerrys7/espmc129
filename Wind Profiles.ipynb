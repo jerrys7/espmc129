{
 "cells": [
  {
   "cell_type": "code",
   "execution_count": 1,
   "id": "21cfa5ce",
   "metadata": {},
   "outputs": [],
   "source": [
    "import numpy as np\n",
    "import matplotlib.pyplot as plt\n",
    "from scipy.stats import linregress as lin"
   ]
  },
  {
   "cell_type": "markdown",
   "id": "a3d31a76",
   "metadata": {},
   "source": [
    "# Question 1 "
   ]
  },
  {
   "cell_type": "markdown",
   "id": "0336189d",
   "metadata": {},
   "source": [
    "### Compute, plot and compare wind profiles for a 1 m and 5 m tall vegetated canopies. Assume zero plane displacement, d = 0.6 height and roughness length z0 = 0.1 height; assume near neutral stability, z/L = 0  for 1m vegetated canopies: d = 0.6, z0 = 0.1, z/L = 0, U at 10m = 10m/s"
   ]
  },
  {
   "cell_type": "code",
   "execution_count": 2,
   "id": "4e0cef3f",
   "metadata": {},
   "outputs": [],
   "source": [
    "\"\"\"x as given in the notes\"\"\"\n",
    "def funcX(z, d, L):\n",
    "    return (1 - 15 *(z - d)/L)**0.25"
   ]
  },
  {
   "cell_type": "code",
   "execution_count": 3,
   "id": "33653f1b",
   "metadata": {},
   "outputs": [],
   "source": [
    "\"\"\"The phi functions\"\"\"\n",
    "def phi(z, d, L, gamma, beta):\n",
    "    return (1 + gamma * (z - d)/L) ** beta"
   ]
  },
  {
   "cell_type": "code",
   "execution_count": 4,
   "id": "d58d7b73",
   "metadata": {},
   "outputs": [],
   "source": [
    "\"\"\"Relative speeds as given by a reference height and reference speed\"\"\"\n",
    "def relative_speed(speed1, height2, height1, z0):\n",
    "    return speed1 * np.log(height2/z0) * np.log(height1/z0)"
   ]
  },
  {
   "cell_type": "code",
   "execution_count": 5,
   "id": "44b310f1",
   "metadata": {},
   "outputs": [],
   "source": [
    "\"\"\"Manipulated equation to calculate the friction from the speed\"\"\"\n",
    "def friction(d, speed, k, z):\n",
    "    z0 = z * 0.1\n",
    "    return speed*k/np.log((z-d)/z0)"
   ]
  },
  {
   "cell_type": "code",
   "execution_count": 6,
   "id": "2da1d26b",
   "metadata": {},
   "outputs": [],
   "source": [
    "\"\"\"Plot the wind profile given reference canopy height and reference speed\"\"\"\n",
    "def plot_wind_profile(canopy, speed):\n",
    "    wind_speeds = []\n",
    "    for i in canopy_heights:\n",
    "        wind_speeds.append(relative_speed(speed, i, speed, 0.1 * canopy))\n",
    "    lab = \"Height: \" + str(canopy) + \" Speed \" + str(speed)\n",
    "    plt.scatter(canopy_heights, wind_speeds, label=lab)\n",
    "    regress = lin(canopy_heights, wind_speeds)\n",
    "    a, b = regress.slope, regress.intercept\n",
    "    plt.plot(canopy_heights, a * canopy_heights + b)\n",
    "    print(a, b)\n",
    "    plt.legend()\n",
    "    plt.title(\"Wind Profile and Canopy Heights\")\n",
    "    plt.xlabel(\"Heights\")\n",
    "    plt.ylabel(\"Wind Profile\")\n",
    "    return wind_speeds"
   ]
  },
  {
   "cell_type": "code",
   "execution_count": 7,
   "id": "d36bf7c8",
   "metadata": {},
   "outputs": [],
   "source": [
    "\"\"\"Plot the friction given canopy speed as a pair, and the wind speeds given the respective heights\"\"\"\n",
    "def plot_friction(canopy_speed, wind_speeds):\n",
    "    c = canopy_speed[0]\n",
    "    friction_array = []\n",
    "    for i in range(len(wind_speeds)):\n",
    "        friction_array.append(friction(c * 0.6, wind_speeds[i], 0.4, c)) # (d, speed, k, z):\n",
    "    print(friction_array)\n",
    "    lab = \"Height: \" + str(canopy_speed[0]) + \" Speed \" + str(canopy_speed[1])\n",
    "    plt.scatter(x=canopy_heights, y=friction_array, label=lab)\n",
    "    regress = lin(canopy_heights, friction_array)\n",
    "    a, b = regress.slope, regress.intercept\n",
    "    plt.plot(canopy_heights, a * canopy_heights + b)\n",
    "    plt.legend()\n",
    "    plt.xlabel(\"Heights\")\n",
    "    plt.ylabel(\"Friction\")\n",
    "    plt.title(\"Friction and Canopy Heights\")\n",
    "    print(a, b)\n",
    "    return friction_array"
   ]
  },
  {
   "cell_type": "code",
   "execution_count": 8,
   "id": "e7701a38",
   "metadata": {},
   "outputs": [],
   "source": [
    "# GLOBAL VARIABLES\n",
    "canopy_heights = np.array([6, 7, 8, 9])\n",
    "reference_heights = [1, 5]\n",
    "speeds = [5, 10]"
   ]
  },
  {
   "cell_type": "code",
   "execution_count": 9,
   "id": "84a6817f",
   "metadata": {},
   "outputs": [],
   "source": [
    "wind_profiles_1 = {} # key is a tuple of canopy height and speed, value is the wind profile"
   ]
  },
  {
   "cell_type": "code",
   "execution_count": 10,
   "id": "454b11dd",
   "metadata": {
    "scrolled": false
   },
   "outputs": [
    {
     "name": "stdout",
     "output_type": "stream",
     "text": [
      "2.6404721861733207 64.42562010436852\n",
      "6.2166422701623905 151.68159517812555\n",
      "1.5541605675405985 19.391060068180295\n",
      "4.044019032896952 50.45670159284919\n"
     ]
    },
    {
     "data": {
      "image/png": "[encoded data removed]",
      "text/plain": [
       "<Figure size 432x288 with 1 Axes>"
      ]
     },
     "metadata": {
      "needs_background": "light"
     },
     "output_type": "display_data"
    }
   ],
   "source": [
    "for c in reference_heights:\n",
    "    for s in speeds:    \n",
    "        wind_profiles_1[(c, s)] = plot_wind_profile(c, s)"
   ]
  },
  {
   "cell_type": "code",
   "execution_count": 11,
   "id": "97155d9f",
   "metadata": {},
   "outputs": [],
   "source": [
    "friction_dict = {}"
   ]
  },
  {
   "cell_type": "code",
   "execution_count": 12,
   "id": "dce3eb45",
   "metadata": {},
   "outputs": [
    {
     "name": "stdout",
     "output_type": "stream",
     "text": [
      "[23.10789190056769, 23.977896169068742, 24.731528145861894, 25.39627866070163]\n",
      "0.7618792257194968 18.58930452615376\n",
      "[54.40447292557958, 56.452782822236216, 58.22710956107156, 59.7921766620638]\n",
      "1.7937437948288 43.76605703152179\n",
      "[8.254681213103192, 8.766758687267346, 9.210340371976185, 9.601607147224245]\n",
      "0.4484359487071998 5.595077239588743\n",
      "[21.47917572578238, 22.811632033765207, 23.96585818843193, 24.98395781024082]\n",
      "1.1668572408042046 14.55872663352355\n"
     ]
    },
    {
     "data": {
      "image/png": "[encoded data removed]",
      "text/plain": [
       "<Figure size 432x288 with 1 Axes>"
      ]
     },
     "metadata": {
      "needs_background": "light"
     },
     "output_type": "display_data"
    }
   ],
   "source": [
    "for key, value in wind_profiles_1.items():\n",
    "    friction_dict[key] = plot_friction(key, value)"
   ]
  },
  {
   "cell_type": "markdown",
   "id": "ef7ab641",
   "metadata": {},
   "source": [
    "#### We can see a linear relationship in the friction and we can see that lower heights increase friction more and also that higher speeds also increase friction. Heights affect friction more than speed."
   ]
  },
  {
   "cell_type": "code",
   "execution_count": 13,
   "id": "4c5f4ef5",
   "metadata": {},
   "outputs": [
    {
     "name": "stdout",
     "output_type": "stream",
     "text": [
      "Canopy 5 / Canopy 1\n",
      "Speed is 5 [0.35722346 0.36561834 0.37241291 0.37807142]\n",
      "Speed is 10 [0.39480533 0.40408339 0.41159279 0.4178466 ]\n"
     ]
    }
   ],
   "source": [
    "# Ratios: \n",
    "print(\"Canopy 5 / Canopy 1\")\n",
    "for k1, v1 in friction_dict.items():\n",
    "    for k2, v2 in friction_dict.items():\n",
    "        if k1 != k2 and k1[1] == k2[1]:\n",
    "            if k1[0] > k2[0]:\n",
    "                print(\"Speed is\",str(k1[1]), np.array(v1)/np.array(v2))"
   ]
  },
  {
   "cell_type": "markdown",
   "id": "ce817176",
   "metadata": {},
   "source": [
    "# Question 2: "
   ]
  },
  {
   "cell_type": "markdown",
   "id": "8bb6c890",
   "metadata": {},
   "source": [
    "### Compare wind profiles for the 1 m tall canopy and (z-d)/L at 10 m equal to the stability cases of -1, 0 and 0.25. Use either the appropriate phi or psi functions discussed in class on your lecture notes. Hint: you will need to compute L for the case of z=10 and then recompute (z-d)/L for each new case of z and then apply that value into the phi or psi functions; as you change height you will need to change the ratio of (z-d)/L and the stability factor. Estimate d and z0 from height, h. Compute wind velocity profiles for two cases. s"
   ]
  },
  {
   "cell_type": "code",
   "execution_count": 14,
   "id": "28a326c8",
   "metadata": {},
   "outputs": [],
   "source": [
    "# 1. Reference height is 10 m, u* is 0.3 m/s and U at 10 m is 5 m/s "
   ]
  },
  {
   "cell_type": "code",
   "execution_count": 15,
   "id": "48499832",
   "metadata": {},
   "outputs": [],
   "source": [
    "\"\"\"Psi function for unstable conditions\"\"\"\n",
    "def unstable(z, d, L):\n",
    "    x = funcX(z, d, L)\n",
    "    return 2 * np.log((1 + x)/2) + np.log((1+x**2)/2) - 2 *np.arctan(x) + np.pi / 2"
   ]
  },
  {
   "cell_type": "code",
   "execution_count": 16,
   "id": "7293f245",
   "metadata": {},
   "outputs": [],
   "source": [
    "\"\"\"Psi function for stable conditions\"\"\"\n",
    "def stable(z, d, L):\n",
    "    return -4.7 * (z - d)/ L"
   ]
  },
  {
   "cell_type": "code",
   "execution_count": 17,
   "id": "faaeb9a7",
   "metadata": {},
   "outputs": [],
   "source": [
    "\"\"\"Psi function for neutral conditions\"\"\"\n",
    "def wind_profile_neutral(u_star, k, z, d):\n",
    "    return u_star / k * np.log(4)"
   ]
  },
  {
   "cell_type": "code",
   "execution_count": 18,
   "id": "88e62f3d",
   "metadata": {},
   "outputs": [],
   "source": [
    "\"\"\"Wind profile equations as defined in the 1988 Arya paper\"\"\"\n",
    "def arya_wind_profiles(u_star, k, z, d, L, stability):\n",
    "    if stability > 0:\n",
    "        return u_star/k * (np.log(4) - stable(z, d, L))\n",
    "    elif stability < 0:\n",
    "        return u_star/k * (np.log(4) - unstable(z, d, L))\n",
    "    else:\n",
    "        return wind_profile_neutral(u_star, k, z, d)"
   ]
  },
  {
   "cell_type": "code",
   "execution_count": 19,
   "id": "c1787d37",
   "metadata": {},
   "outputs": [],
   "source": [
    "\"\"\"Equation to find L with respect to the ratio z/L, assuming d = 0.6L\"\"\"\n",
    "def buoyant_production(zdl, u_star, z):\n",
    "    zl = zdl/0.4\n",
    "    result = zl * u_star ** 3/(z * 0.41 * 9.81)\n",
    "    return result"
   ]
  },
  {
   "cell_type": "code",
   "execution_count": 20,
   "id": "297a7bc8",
   "metadata": {},
   "outputs": [],
   "source": [
    "# GLOBAL VARIABLES\n",
    "stability = [-1, 0, 0.25] # (z-d)/L (unstable: -1, neutral: 0, stable: 0.25)\n",
    "z = 10\n",
    "u_star = 0.3\n",
    "speed = 5\n",
    "wind_profile_stability = []\n",
    "L = []\n",
    "x_axis = [0.5 * x for x in range(1, 21)] # heights with change in step size = 0.5"
   ]
  },
  {
   "cell_type": "code",
   "execution_count": 21,
   "id": "c1f3aa60",
   "metadata": {},
   "outputs": [],
   "source": [
    "wind_profiles = []\n",
    "for i in x_axis:\n",
    "    wind_profiles.append(wind_profile_neutral(u_star, 0.4, i, 0.6 * i))"
   ]
  },
  {
   "cell_type": "code",
   "execution_count": 22,
   "id": "3500226e",
   "metadata": {},
   "outputs": [],
   "source": [
    "CONSTANT_BUOYANT = buoyant_production(0.25, 0.3, 10)"
   ]
  },
  {
   "cell_type": "code",
   "execution_count": 23,
   "id": "466590d5",
   "metadata": {},
   "outputs": [],
   "source": [
    "for x in x_axis:\n",
    "    L.append((0.4 * 9.81 / u_star ** 3 * CONSTANT_BUOYANT) ** -1)"
   ]
  },
  {
   "cell_type": "code",
   "execution_count": 24,
   "id": "df954367",
   "metadata": {},
   "outputs": [],
   "source": [
    "stability_array = []\n",
    "for stab in stability:\n",
    "    stability_subindex = []\n",
    "    for i in range(len(x_axis)):\n",
    "        wp_temp = arya_wind_profiles(u_star, 0.4, x_axis[i], 0.6*x_axis[i], L[i], stab)\n",
    "        stability_subindex.append(wp_temp)\n",
    "    stability_array.append(stability_subindex)"
   ]
  },
  {
   "cell_type": "code",
   "execution_count": 25,
   "id": "0851a4b4",
   "metadata": {
    "scrolled": true
   },
   "outputs": [
    {
     "name": "stderr",
     "output_type": "stream",
     "text": [
      "/Users/jerrysun/opt/anaconda3/lib/python3.8/site-packages/numpy/core/_asarray.py:171: ComplexWarning: Casting complex values to real discards the imaginary part\n",
      "  return array(a, dtype, copy=False, order=order, subok=True)\n"
     ]
    },
    {
     "data": {
      "image/png": "[encoded data removed]",
      "text/plain": [
       "<Figure size 432x288 with 1 Axes>"
      ]
     },
     "metadata": {
      "needs_background": "light"
     },
     "output_type": "display_data"
    },
    {
     "data": {
      "image/png": "[encoded data removed]",
      "text/plain": [
       "<Figure size 432x288 with 1 Axes>"
      ]
     },
     "metadata": {
      "needs_background": "light"
     },
     "output_type": "display_data"
    },
    {
     "data": {
      "image/png": "[encoded data removed]",
      "text/plain": [
       "<Figure size 432x288 with 1 Axes>"
      ]
     },
     "metadata": {
      "needs_background": "light"
     },
     "output_type": "display_data"
    }
   ],
   "source": [
    "for i in range(len(stability_array)):\n",
    "    if i == 0:\n",
    "        plt.title(\"Unstable Wind Profiles\")\n",
    "    elif i == 1:\n",
    "        plt.title(\"Neutral Wind Profiles\")\n",
    "    elif i == 2:\n",
    "        plt.title(\"Stable Wind Profiles\")\n",
    "    plt.xlabel('Heights')\n",
    "    plt.ylabel('Wind Profile')\n",
    "    plt.scatter(x_axis, stability_array[i])\n",
    "    plt.show()"
   ]
  },
  {
   "cell_type": "markdown",
   "id": "47954846",
   "metadata": {},
   "source": [
    "#### Wind profiles are really different with stability. In the stable case, we see a linear relationship, in the neutral case, we see a uniform relationship, and in the unstable case we see a steep increase followed by a nearly linear decrease"
   ]
  }
 ],
 "metadata": {
  "kernelspec": {
   "display_name": "Python 3",
   "language": "python",
   "name": "python3"
  },
  "language_info": {
   "codemirror_mode": {
    "name": "ipython",
    "version": 3
   },
   "file_extension": ".py",
   "mimetype": "text/x-python",
   "name": "python",
   "nbconvert_exporter": "python",
   "pygments_lexer": "ipython3",
   "version": "3.8.8"
  }
 },
 "nbformat": 4,
 "nbformat_minor": 5
}
